{
 "cells": [
  {
   "cell_type": "markdown",
   "metadata": {
    "collapsed": true
   },
   "source": [
    "# Image Classification\n",
    "In this project, you'll classify images from the [CIFAR-10 dataset](https://www.cs.toronto.edu/~kriz/cifar.html).  The dataset consists of airplanes, dogs, cats, and other objects. You'll preprocess the images, then train a convolutional neural network on all the samples. The images need to be normalized and the labels need to be one-hot encoded.  You'll get to apply what you learned and build a convolutional, max pooling, dropout, and fully connected layers.  At the end, you'll get to see your neural network's predictions on the sample images.\n",
    "## Get the Data\n",
    "Run the following cell to download the [CIFAR-10 dataset for python](https://www.cs.toronto.edu/~kriz/cifar-10-python.tar.gz)."
   ]
  },
  {
   "cell_type": "code",
   "execution_count": 1,
   "metadata": {},
   "outputs": [
    {
     "name": "stdout",
     "output_type": "stream",
     "text": [
      "All files found!\n"
     ]
    }
   ],
   "source": [
    "\"\"\"\n",
    "DON'T MODIFY ANYTHING IN THIS CELL THAT IS BELOW THIS LINE\n",
    "\"\"\"\n",
    "from urllib.request import urlretrieve\n",
    "from os.path import isfile, isdir\n",
    "from tqdm import tqdm\n",
    "import problem_unittests as tests\n",
    "import tarfile\n",
    "\n",
    "cifar10_dataset_folder_path = 'cifar-10-batches-py'\n",
    "\n",
    "# Use Floyd's cifar-10 dataset if present\n",
    "floyd_cifar10_location = '/input/cifar-10/python.tar.gz'\n",
    "if isfile(floyd_cifar10_location):\n",
    "    tar_gz_path = floyd_cifar10_location\n",
    "else:\n",
    "    tar_gz_path = 'cifar-10-python.tar.gz'\n",
    "\n",
    "class DLProgress(tqdm):\n",
    "    last_block = 0\n",
    "\n",
    "    def hook(self, block_num=1, block_size=1, total_size=None):\n",
    "        self.total = total_size\n",
    "        self.update((block_num - self.last_block) * block_size)\n",
    "        self.last_block = block_num\n",
    "\n",
    "if not isfile(tar_gz_path):\n",
    "    with DLProgress(unit='B', unit_scale=True, miniters=1, desc='CIFAR-10 Dataset') as pbar:\n",
    "        urlretrieve(\n",
    "            'https://www.cs.toronto.edu/~kriz/cifar-10-python.tar.gz',\n",
    "            tar_gz_path,\n",
    "            pbar.hook)\n",
    "\n",
    "if not isdir(cifar10_dataset_folder_path):\n",
    "    with tarfile.open(tar_gz_path) as tar:\n",
    "        tar.extractall()\n",
    "        tar.close()\n",
    "\n",
    "\n",
    "tests.test_folder_path(cifar10_dataset_folder_path)"
   ]
  },
  {
   "cell_type": "markdown",
   "metadata": {},
   "source": [
    "## Explore the Data\n",
    "The dataset is broken into batches to prevent your machine from running out of memory.  The CIFAR-10 dataset consists of 5 batches, named `data_batch_1`, `data_batch_2`, etc.. Each batch contains the labels and images that are one of the following:\n",
    "* airplane\n",
    "* automobile\n",
    "* bird\n",
    "* cat\n",
    "* deer\n",
    "* dog\n",
    "* frog\n",
    "* horse\n",
    "* ship\n",
    "* truck\n",
    "\n",
    "Understanding a dataset is part of making predictions on the data.  Play around with the code cell below by changing the `batch_id` and `sample_id`. The `batch_id` is the id for a batch (1-5). The `sample_id` is the id for a image and label pair in the batch.\n",
    "\n",
    "Ask yourself \"What are all possible labels?\", \"What is the range of values for the image data?\", \"Are the labels in order or random?\".  Answers to questions like these will help you preprocess the data and end up with better predictions."
   ]
  },
  {
   "cell_type": "code",
   "execution_count": 2,
   "metadata": {},
   "outputs": [
    {
     "name": "stdout",
     "output_type": "stream",
     "text": [
      "\n",
      "Stats of batch 5:\n",
      "Samples: 10000\n",
      "Label Counts: {0: 1014, 1: 1014, 2: 952, 3: 1016, 4: 997, 5: 1025, 6: 980, 7: 977, 8: 1003, 9: 1022}\n",
      "First 20 Labels: [1, 8, 5, 1, 5, 7, 4, 3, 8, 2, 7, 2, 0, 1, 5, 9, 6, 2, 0, 8]\n",
      "\n",
      "Example of Image 280:\n",
      "Image - Min Value: 76 Max Value: 251\n",
      "Image - Shape: (32, 32, 3)\n",
      "Label - Label Id: 4 Name: deer\n"
     ]
    },
    {
     "data": {
      "image/png": "[encoded data removed]",
      "text/plain": [
       "<matplotlib.figure.Figure at 0x7f607e4a61d0>"
      ]
     },
     "metadata": {
      "image/png": {
       "height": 250,
       "width": 253
      }
     },
     "output_type": "display_data"
    }
   ],
   "source": [
    "%matplotlib inline\n",
    "%config InlineBackend.figure_format = 'retina'\n",
    "\n",
    "import helper\n",
    "import numpy as np\n",
    "\n",
    "# Explore the dataset\n",
    "batch_id = 5\n",
    "sample_id = 280\n",
    "helper.display_stats(cifar10_dataset_folder_path, batch_id, sample_id)"
   ]
  },
  {
   "cell_type": "markdown",
   "metadata": {},
   "source": [
    "## Implement Preprocess Functions\n",
    "### Normalize\n",
    "In the cell below, implement the `normalize` function to take in image data, `x`, and return it as a normalized Numpy array. The values should be in the range of 0 to 1, inclusive.  The return object should be the same shape as `x`."
   ]
  },
  {
   "cell_type": "code",
   "execution_count": 3,
   "metadata": {},
   "outputs": [
    {
     "name": "stdout",
     "output_type": "stream",
     "text": [
      "Tests Passed\n"
     ]
    }
   ],
   "source": [
    "def normalize(x):\n",
    "    \"\"\"\n",
    "    Normalize a list of sample image data in the range of 0 to 1\n",
    "    : x: List of image data.  The image shape is (32, 32, 3)\n",
    "    : return: Numpy array of normalize data\n",
    "    \"\"\"\n",
    "    return np.array(x / 255)\n",
    "\n",
    "\n",
    "\"\"\"\n",
    "DON'T MODIFY ANYTHING IN THIS CELL THAT IS BELOW THIS LINE\n",
    "\"\"\"\n",
    "tests.test_normalize(normalize)"
   ]
  },
  {
   "cell_type": "markdown",
   "metadata": {},
   "source": [
    "### One-hot encode\n",
    "Just like the previous code cell, you'll be implementing a function for preprocessing.  This time, you'll implement the `one_hot_encode` function. The input, `x`, are a list of labels.  Implement the function to return the list of labels as One-Hot encoded Numpy array.  The possible values for labels are 0 to 9. The one-hot encoding function should return the same encoding for each value between each call to `one_hot_encode`.  Make sure to save the map of encodings outside the function.\n",
    "\n",
    "Hint: Don't reinvent the wheel."
   ]
  },
  {
   "cell_type": "code",
   "execution_count": 4,
   "metadata": {},
   "outputs": [
    {
     "name": "stdout",
     "output_type": "stream",
     "text": [
      "Tests Passed\n"
     ]
    }
   ],
   "source": [
    "def one_hot_encode(x):\n",
    "    \"\"\"\n",
    "    One hot encode a list of sample labels. Return a one-hot encoded vector for each label.\n",
    "    : x: List of sample Labels\n",
    "    : return: Numpy array of one-hot encoded labels\n",
    "    \"\"\"\n",
    "    \n",
    "    # labels range from 0 - 9\n",
    "    max_label = 10\n",
    "    \n",
    "    # store in np.array()\n",
    "    labels = np.array(x)\n",
    "    \n",
    "    # initialize array to return to zeros\n",
    "    one_hot_labels = np.zeros((len(x), max_label))\n",
    "    \n",
    "    # for each row i in one_hot labels\n",
    "    # set one_hot_labels[i][labels[i]] = 1\n",
    "    one_hot_labels[np.arange(len(x)), labels] = 1\n",
    "    \n",
    "    return one_hot_labels\n",
    "\n",
    "\n",
    "\"\"\"\n",
    "DON'T MODIFY ANYTHING IN THIS CELL THAT IS BELOW THIS LINE\n",
    "\"\"\"\n",
    "tests.test_one_hot_encode(one_hot_encode)"
   ]
  },
  {
   "cell_type": "markdown",
   "metadata": {},
   "source": [
    "### Randomize Data\n",
    "As you saw from exploring the data above, the order of the samples are randomized.  It doesn't hurt to randomize it again, but you don't need to for this dataset."
   ]
  },
  {
   "cell_type": "markdown",
   "metadata": {},
   "source": [
    "## Preprocess all the data and save it\n",
    "Running the code cell below will preprocess all the CIFAR-10 data and save it to file. The code below also uses 10% of the training data for validation."
   ]
  },
  {
   "cell_type": "code",
   "execution_count": 5,
   "metadata": {
    "collapsed": true
   },
   "outputs": [],
   "source": [
    "\"\"\"\n",
    "DON'T MODIFY ANYTHING IN THIS CELL\n",
    "\"\"\"\n",
    "# Preprocess Training, Validation, and Testing Data\n",
    "helper.preprocess_and_save_data(cifar10_dataset_folder_path, normalize, one_hot_encode)"
   ]
  },
  {
   "cell_type": "markdown",
   "metadata": {},
   "source": [
    "# Check Point\n",
    "This is your first checkpoint.  If you ever decide to come back to this notebook or have to restart the notebook, you can start from here.  The preprocessed data has been saved to disk."
   ]
  },
  {
   "cell_type": "code",
   "execution_count": 6,
   "metadata": {
    "collapsed": true
   },
   "outputs": [],
   "source": [
    "\"\"\"\n",
    "DON'T MODIFY ANYTHING IN THIS CELL\n",
    "\"\"\"\n",
    "import pickle\n",
    "import problem_unittests as tests\n",
    "import helper\n",
    "\n",
    "# Load the Preprocessed Validation data\n",
    "valid_features, valid_labels = pickle.load(open('preprocess_validation.p', mode='rb'))"
   ]
  },
  {
   "cell_type": "markdown",
   "metadata": {},
   "source": [
    "## Build the network\n",
    "For the neural network, you'll build each layer into a function.  Most of the code you've seen has been outside of functions. To test your code more thoroughly, we require that you put each layer in a function.  This allows us to give you better feedback and test for simple mistakes using our unittests before you submit your project.\n",
    "\n",
    ">**Note:** If you're finding it hard to dedicate enough time for this course each week, we've provided a small shortcut to this part of the project. In the next couple of problems, you'll have the option to use classes from the [TensorFlow Layers](https://www.tensorflow.org/api_docs/python/tf/layers) or [TensorFlow Layers (contrib)](https://www.tensorflow.org/api_guides/python/contrib.layers) packages to build each layer, except the layers you build in the \"Convolutional and Max Pooling Layer\" section.  TF Layers is similar to Keras's and TFLearn's abstraction to layers, so it's easy to pickup.\n",
    "\n",
    ">However, if you would like to get the most out of this course, try to solve all the problems _without_ using anything from the TF Layers packages. You **can** still use classes from other packages that happen to have the same name as ones you find in TF Layers! For example, instead of using the TF Layers version of the `conv2d` class, [tf.layers.conv2d](https://www.tensorflow.org/api_docs/python/tf/layers/conv2d), you would want to use the TF Neural Network version of `conv2d`, [tf.nn.conv2d](https://www.tensorflow.org/api_docs/python/tf/nn/conv2d). \n",
    "\n",
    "Let's begin!\n",
    "\n",
    "### Input\n",
    "The neural network needs to read the image data, one-hot encoded labels, and dropout keep probability. Implement the following functions\n",
    "* Implement `neural_net_image_input`\n",
    " * Return a [TF Placeholder](https://www.tensorflow.org/api_docs/python/tf/placeholder)\n",
    " * Set the shape using `image_shape` with batch size set to `None`.\n",
    " * Name the TensorFlow placeholder \"x\" using the TensorFlow `name` parameter in the [TF Placeholder](https://www.tensorflow.org/api_docs/python/tf/placeholder).\n",
    "* Implement `neural_net_label_input`\n",
    " * Return a [TF Placeholder](https://www.tensorflow.org/api_docs/python/tf/placeholder)\n",
    " * Set the shape using `n_classes` with batch size set to `None`.\n",
    " * Name the TensorFlow placeholder \"y\" using the TensorFlow `name` parameter in the [TF Placeholder](https://www.tensorflow.org/api_docs/python/tf/placeholder).\n",
    "* Implement `neural_net_keep_prob_input`\n",
    " * Return a [TF Placeholder](https://www.tensorflow.org/api_docs/python/tf/placeholder) for dropout keep probability.\n",
    " * Name the TensorFlow placeholder \"keep_prob\" using the TensorFlow `name` parameter in the [TF Placeholder](https://www.tensorflow.org/api_docs/python/tf/placeholder).\n",
    "\n",
    "These names will be used at the end of the project to load your saved model.\n",
    "\n",
    "Note: `None` for shapes in TensorFlow allow for a dynamic size."
   ]
  },
  {
   "cell_type": "code",
   "execution_count": 7,
   "metadata": {},
   "outputs": [
    {
     "name": "stdout",
     "output_type": "stream",
     "text": [
      "Image Input Tests Passed.\n",
      "Label Input Tests Passed.\n",
      "Keep Prob Tests Passed.\n"
     ]
    }
   ],
   "source": [
    "import tensorflow as tf\n",
    "\n",
    "def neural_net_image_input(image_shape):\n",
    "    \"\"\"\n",
    "    Return a Tensor for a batch of image input\n",
    "    : image_shape: Shape of the images\n",
    "    : return: Tensor for image input.\n",
    "    \"\"\"\n",
    "    \n",
    "    return tf.placeholder(tf.float32, [None, *image_shape], name=\"x\")\n",
    "\n",
    "\n",
    "def neural_net_label_input(n_classes):\n",
    "    \"\"\"\n",
    "    Return a Tensor for a batch of label input\n",
    "    : n_classes: Number of classes\n",
    "    : return: Tensor for label input.\n",
    "    \"\"\"\n",
    "    \n",
    "    return tf.placeholder(tf.float32, [None, n_classes], name=\"y\")\n",
    "\n",
    "\n",
    "def neural_net_keep_prob_input():\n",
    "    \"\"\"\n",
    "    Return a Tensor for keep probability\n",
    "    : return: Tensor for keep probability.\n",
    "    \"\"\"\n",
    "    \n",
    "    return tf.placeholder(tf.float32, name=\"keep_prob\")\n",
    "\n",
    "\n",
    "\"\"\"\n",
    "DON'T MODIFY ANYTHING IN THIS CELL THAT IS BELOW THIS LINE\n",
    "\"\"\"\n",
    "tf.reset_default_graph()\n",
    "tests.test_nn_image_inputs(neural_net_image_input)\n",
    "tests.test_nn_label_inputs(neural_net_label_input)\n",
    "tests.test_nn_keep_prob_inputs(neural_net_keep_prob_input)"
   ]
  },
  {
   "cell_type": "markdown",
   "metadata": {},
   "source": [
    "### Convolution and Max Pooling Layer\n",
    "Convolution layers have a lot of success with images. For this code cell, you should implement the function `conv2d_maxpool` to apply convolution then max pooling:\n",
    "* Create the weight and bias using `conv_ksize`, `conv_num_outputs` and the shape of `x_tensor`.\n",
    "* Apply a convolution to `x_tensor` using weight and `conv_strides`.\n",
    " * We recommend you use same padding, but you're welcome to use any padding.\n",
    "* Add bias\n",
    "* Add a nonlinear activation to the convolution.\n",
    "* Apply Max Pooling using `pool_ksize` and `pool_strides`.\n",
    " * We recommend you use same padding, but you're welcome to use any padding.\n",
    "\n",
    "**Note:** You **can't** use [TensorFlow Layers](https://www.tensorflow.org/api_docs/python/tf/layers) or [TensorFlow Layers (contrib)](https://www.tensorflow.org/api_guides/python/contrib.layers) for **this** layer, but you can still use TensorFlow's [Neural Network](https://www.tensorflow.org/api_docs/python/tf/nn) package. You may still use the shortcut option for all the **other** layers."
   ]
  },
  {
   "cell_type": "code",
   "execution_count": 8,
   "metadata": {},
   "outputs": [
    {
     "name": "stdout",
     "output_type": "stream",
     "text": [
      "Tests Passed\n"
     ]
    }
   ],
   "source": [
    "def conv2d_maxpool(x_tensor, conv_num_outputs, conv_ksize, conv_strides, pool_ksize, pool_strides):\n",
    "    \"\"\"\n",
    "    Apply convolution then max pooling to x_tensor\n",
    "    :param x_tensor: TensorFlow Tensor\n",
    "    :param conv_num_outputs: Number of outputs for the convolutional layer\n",
    "    :param conv_ksize: kernal size 2-D Tuple for the convolutional layer\n",
    "    :param conv_strides: Stride 2-D Tuple for convolution\n",
    "    :param pool_ksize: kernal size 2-D Tuple for pool\n",
    "    :param pool_strides: Stride 2-D Tuple for pool\n",
    "    : return: A tensor that represents convolution and max pooling of x_tensor\n",
    "    \"\"\"\n",
    "    \n",
    "    x_depth = int(x_tensor.shape[3])\n",
    "    weights = tf.Variable(tf.random_normal([*conv_ksize, x_depth, conv_num_outputs], stddev=0.01))\n",
    "    bias = tf.Variable(tf.random_normal([conv_num_outputs], stddev=0.01))\n",
    "    \n",
    "    layer = tf.nn.conv2d(x_tensor, weights, strides=[1, *conv_strides, 1], padding='SAME')\n",
    "    layer = tf.nn.bias_add(layer, bias)\n",
    "    layer = tf.nn.relu(layer)\n",
    "    layer = tf.nn.max_pool(layer, [1, *pool_ksize, 1], strides=[1, *pool_strides, 1], padding='SAME')\n",
    "    return layer\n",
    "\n",
    "\n",
    "\"\"\"\n",
    "DON'T MODIFY ANYTHING IN THIS CELL THAT IS BELOW THIS LINE\n",
    "\"\"\"\n",
    "tests.test_con_pool(conv2d_maxpool)"
   ]
  },
  {
   "cell_type": "markdown",
   "metadata": {},
   "source": [
    "### Flatten Layer\n",
    "Implement the `flatten` function to change the dimension of `x_tensor` from a 4-D tensor to a 2-D tensor.  The output should be the shape (*Batch Size*, *Flattened Image Size*). Shortcut option: you can use classes from the [TensorFlow Layers](https://www.tensorflow.org/api_docs/python/tf/layers) or [TensorFlow Layers (contrib)](https://www.tensorflow.org/api_guides/python/contrib.layers) packages for this layer. For more of a challenge, only use other TensorFlow packages."
   ]
  },
  {
   "cell_type": "code",
   "execution_count": 9,
   "metadata": {},
   "outputs": [
    {
     "name": "stdout",
     "output_type": "stream",
     "text": [
      "Tests Passed\n"
     ]
    }
   ],
   "source": [
    "def flatten(x_tensor):\n",
    "    \"\"\"\n",
    "    Flatten x_tensor to (Batch Size, Flattened Image Size)\n",
    "    : x_tensor: A tensor of size (Batch Size, ...), where ... are the image dimensions.\n",
    "    : return: A tensor of size (Batch Size, Flattened Image Size).\n",
    "    \"\"\"\n",
    "    x_shape = x_tensor.shape\n",
    "    flattened_size = np.product(x_shape[1:])\n",
    "    flattened_shape = [-1, flattened_size.value]\n",
    "    \n",
    "    return tf.reshape(x_tensor, flattened_shape)\n",
    "\n",
    "\n",
    "\"\"\"\n",
    "DON'T MODIFY ANYTHING IN THIS CELL THAT IS BELOW THIS LINE\n",
    "\"\"\"\n",
    "tests.test_flatten(flatten)"
   ]
  },
  {
   "cell_type": "markdown",
   "metadata": {},
   "source": [
    "### Fully-Connected Layer\n",
    "Implement the `fully_conn` function to apply a fully connected layer to `x_tensor` with the shape (*Batch Size*, *num_outputs*). Shortcut option: you can use classes from the [TensorFlow Layers](https://www.tensorflow.org/api_docs/python/tf/layers) or [TensorFlow Layers (contrib)](https://www.tensorflow.org/api_guides/python/contrib.layers) packages for this layer. For more of a challenge, only use other TensorFlow packages."
   ]
  },
  {
   "cell_type": "code",
   "execution_count": 10,
   "metadata": {},
   "outputs": [
    {
     "name": "stdout",
     "output_type": "stream",
     "text": [
      "Tests Passed\n"
     ]
    }
   ],
   "source": [
    "def fully_conn(x_tensor, num_outputs):\n",
    "    \"\"\"\n",
    "    Apply a fully connected layer to x_tensor using weight and bias\n",
    "    : x_tensor: A 2-D tensor where the first dimension is batch size.\n",
    "    : num_outputs: The number of output that the new tensor should be.\n",
    "    : return: A 2-D tensor where the second dimension is num_outputs.\n",
    "    \"\"\"\n",
    "    # TODO: Implement Function\n",
    "    batch_size = x_tensor.shape[1].value\n",
    "    fc_weights = tf.Variable(tf.truncated_normal([batch_size, num_outputs], stddev=0.01))\n",
    "    fc_bias = tf.Variable(tf.truncated_normal([num_outputs], stddev=0.01))\n",
    "    \n",
    "    fc_layer = tf.add(tf.matmul(x_tensor, fc_weights), fc_bias)\n",
    "    fc_layer = tf.nn.relu(fc_layer)\n",
    "    return fc_layer\n",
    "\n",
    "\n",
    "\"\"\"\n",
    "DON'T MODIFY ANYTHING IN THIS CELL THAT IS BELOW THIS LINE\n",
    "\"\"\"\n",
    "tests.test_fully_conn(fully_conn)"
   ]
  },
  {
   "cell_type": "markdown",
   "metadata": {},
   "source": [
    "### Output Layer\n",
    "Implement the `output` function to apply a fully connected layer to `x_tensor` with the shape (*Batch Size*, *num_outputs*). Shortcut option: you can use classes from the [TensorFlow Layers](https://www.tensorflow.org/api_docs/python/tf/layers) or [TensorFlow Layers (contrib)](https://www.tensorflow.org/api_guides/python/contrib.layers) packages for this layer. For more of a challenge, only use other TensorFlow packages.\n",
    "\n",
    "**Note:** Activation, softmax, or cross entropy should **not** be applied to this."
   ]
  },
  {
   "cell_type": "code",
   "execution_count": 11,
   "metadata": {},
   "outputs": [
    {
     "name": "stdout",
     "output_type": "stream",
     "text": [
      "Tests Passed\n"
     ]
    }
   ],
   "source": [
    "def output(x_tensor, num_outputs):\n",
    "    \"\"\"\n",
    "    Apply a output layer to x_tensor using weight and bias\n",
    "    : x_tensor: A 2-D tensor where the first dimension is batch size.\n",
    "    : num_outputs: The number of output that the new tensor should be.\n",
    "    : return: A 2-D tensor where the second dimension is num_outputs.\n",
    "    \"\"\"\n",
    "    # TODO: Implement Function\n",
    "    batch_size = x_tensor.shape[1].value\n",
    "    output_weights = tf.Variable(tf.truncated_normal([batch_size, num_outputs], stddev=0.01))\n",
    "    output_bias = tf.Variable(tf.truncated_normal([num_outputs], stddev=0.01))\n",
    "    \n",
    "    output_layer = tf.add(tf.matmul(x_tensor, output_weights), output_bias)\n",
    "    \n",
    "    return output_layer\n",
    "\n",
    "\n",
    "\"\"\"\n",
    "DON'T MODIFY ANYTHING IN THIS CELL THAT IS BELOW THIS LINE\n",
    "\"\"\"\n",
    "tests.test_output(output)"
   ]
  },
  {
   "cell_type": "markdown",
   "metadata": {},
   "source": [
    "### Create Convolutional Model\n",
    "Implement the function `conv_net` to create a convolutional neural network model. The function takes in a batch of images, `x`, and outputs logits.  Use the layers you created above to create this model:\n",
    "\n",
    "* Apply 1, 2, or 3 Convolution and Max Pool layers\n",
    "* Apply a Flatten Layer\n",
    "* Apply 1, 2, or 3 Fully Connected Layers\n",
    "* Apply an Output Layer\n",
    "* Return the output\n",
    "* Apply [TensorFlow's Dropout](https://www.tensorflow.org/api_docs/python/tf/nn/dropout) to one or more layers in the model using `keep_prob`. "
   ]
  },
  {
   "cell_type": "code",
   "execution_count": 12,
   "metadata": {},
   "outputs": [
    {
     "name": "stdout",
     "output_type": "stream",
     "text": [
      "Neural Network Built!\n"
     ]
    }
   ],
   "source": [
    "def conv_net(x, keep_prob):\n",
    "    \"\"\"\n",
    "    Create a convolutional neural network model\n",
    "    : x: Placeholder tensor that holds image data.\n",
    "    : keep_prob: Placeholder tensor that hold dropout keep probability.\n",
    "    : return: Tensor that represents logits\n",
    "    \"\"\"\n",
    "    # TODO: Apply 1, 2, or 3 Convolution and Max Pool layers\n",
    "    #    Play around with different number of outputs, kernel size and stride\n",
    "    # Function Definition from Above:\n",
    "    #    conv2d_maxpool(x_tensor, conv_num_outputs, conv_ksize, conv_strides, pool_ksize, pool_strides)\n",
    "    logits = conv2d_maxpool(x, 16, [4, 4], [1, 1], [2, 2], [2, 2])\n",
    "    logits = conv2d_maxpool(x, 32, [4, 4], [1, 1], [2, 2], [2, 2])\n",
    "    logits = conv2d_maxpool(x, 64, [4, 4], [1, 1], [2, 2], [2, 2])\n",
    "\n",
    "    # TODO: Apply a Flatten Layer\n",
    "    # Function Definition from Above:\n",
    "    #   flatten(x_tensor)\n",
    "    logits = flatten(logits)\n",
    "\n",
    "    # TODO: Apply 1, 2, or 3 Fully Connected Layers\n",
    "    #    Play around with different number of outputs\n",
    "    # Function Definition from Above:\n",
    "    #   fully_conn(x_tensor, num_outputs)\n",
    "    logits = fully_conn(logits, 1024)\n",
    "    logits = tf.nn.dropout(logits, keep_prob=keep_prob)\n",
    "    \n",
    "\n",
    "    \n",
    "    # TODO: Apply an Output Layer\n",
    "    #    Set this to the number of classes\n",
    "    # Function Definition from Above:\n",
    "    #   output(x_tensor, num_outputs)\n",
    "    logits = output(logits, 10)\n",
    "    \n",
    "    # TODO: return output\n",
    "    return logits\n",
    "\n",
    "\n",
    "\"\"\"\n",
    "DON'T MODIFY ANYTHING IN THIS CELL THAT IS BELOW THIS LINE\n",
    "\"\"\"\n",
    "\n",
    "##############################\n",
    "## Build the Neural Network ##\n",
    "##############################\n",
    "\n",
    "# Remove previous weights, bias, inputs, etc..\n",
    "tf.reset_default_graph()\n",
    "\n",
    "# Inputs\n",
    "x = neural_net_image_input((32, 32, 3))\n",
    "y = neural_net_label_input(10)\n",
    "keep_prob = neural_net_keep_prob_input()\n",
    "\n",
    "# Model\n",
    "logits = conv_net(x, keep_prob)\n",
    "\n",
    "# Name logits Tensor, so that is can be loaded from disk after training\n",
    "logits = tf.identity(logits, name='logits')\n",
    "\n",
    "# Loss and Optimizer\n",
    "cost = tf.reduce_mean(tf.nn.softmax_cross_entropy_with_logits(logits=logits, labels=y))\n",
    "optimizer = tf.train.AdamOptimizer().minimize(cost)\n",
    "\n",
    "# Accuracy\n",
    "correct_pred = tf.equal(tf.argmax(logits, 1), tf.argmax(y, 1))\n",
    "accuracy = tf.reduce_mean(tf.cast(correct_pred, tf.float32), name='accuracy')\n",
    "\n",
    "tests.test_conv_net(conv_net)"
   ]
  },
  {
   "cell_type": "markdown",
   "metadata": {},
   "source": [
    "## Train the Neural Network\n",
    "### Single Optimization\n",
    "Implement the function `train_neural_network` to do a single optimization.  The optimization should use `optimizer` to optimize in `session` with a `feed_dict` of the following:\n",
    "* `x` for image input\n",
    "* `y` for labels\n",
    "* `keep_prob` for keep probability for dropout\n",
    "\n",
    "This function will be called for each batch, so `tf.global_variables_initializer()` has already been called.\n",
    "\n",
    "Note: Nothing needs to be returned. This function is only optimizing the neural network."
   ]
  },
  {
   "cell_type": "code",
   "execution_count": 13,
   "metadata": {},
   "outputs": [
    {
     "name": "stdout",
     "output_type": "stream",
     "text": [
      "Tests Passed\n"
     ]
    }
   ],
   "source": [
    "def train_neural_network(session, optimizer, keep_probability, feature_batch, label_batch):\n",
    "    \"\"\"\n",
    "    Optimize the session on a batch of images and labels\n",
    "    : session: Current TensorFlow session\n",
    "    : optimizer: TensorFlow optimizer function\n",
    "    : keep_probability: keep probability\n",
    "    : feature_batch: Batch of Numpy image data\n",
    "    : label_batch: Batch of Numpy label data\n",
    "    \"\"\"\n",
    "    session.run(optimizer, feed_dict={x:feature_batch, y:label_batch, keep_prob:keep_probability})\n",
    "\n",
    "\n",
    "\"\"\"\n",
    "DON'T MODIFY ANYTHING IN THIS CELL THAT IS BELOW THIS LINE\n",
    "\"\"\"\n",
    "tests.test_train_nn(train_neural_network)"
   ]
  },
  {
   "cell_type": "markdown",
   "metadata": {},
   "source": [
    "### Show Stats\n",
    "Implement the function `print_stats` to print loss and validation accuracy.  Use the global variables `valid_features` and `valid_labels` to calculate validation accuracy.  Use a keep probability of `1.0` to calculate the loss and validation accuracy."
   ]
  },
  {
   "cell_type": "code",
   "execution_count": 14,
   "metadata": {
    "collapsed": true
   },
   "outputs": [],
   "source": [
    "def print_stats(session, feature_batch, label_batch, cost, accuracy):\n",
    "    \"\"\"\n",
    "    Print information about loss and validation accuracy\n",
    "    : session: Current TensorFlow session\n",
    "    : feature_batch: Batch of Numpy image data\n",
    "    : label_batch: Batch of Numpy label data\n",
    "    : cost: TensorFlow cost function\n",
    "    : accuracy: TensorFlow accuracy function\n",
    "    \"\"\"\n",
    "    loss = session.run(cost, feed_dict={x:feature_batch, y:label_batch, keep_prob:1.0})\n",
    "    validation_accuracy = session.run(accuracy, feed_dict={x:valid_features, y:valid_labels, keep_prob:1.0})\n",
    "    \n",
    "    print(\"Loss = {0}  Validation Accuracy = {1}\".format(loss, validation_accuracy))"
   ]
  },
  {
   "cell_type": "markdown",
   "metadata": {},
   "source": [
    "### Hyperparameters\n",
    "Tune the following parameters:\n",
    "* Set `epochs` to the number of iterations until the network stops learning or start overfitting\n",
    "* Set `batch_size` to the highest number that your machine has memory for.  Most people set them to common sizes of memory:\n",
    " * 64\n",
    " * 128\n",
    " * 256\n",
    " * ...\n",
    "* Set `keep_probability` to the probability of keeping a node using dropout"
   ]
  },
  {
   "cell_type": "code",
   "execution_count": 15,
   "metadata": {
    "collapsed": true
   },
   "outputs": [],
   "source": [
    "# TODO: Tune Parameters\n",
    "epochs = 30\n",
    "batch_size = 1024\n",
    "keep_probability = 0.7"
   ]
  },
  {
   "cell_type": "markdown",
   "metadata": {},
   "source": [
    "### Train on a Single CIFAR-10 Batch\n",
    "Instead of training the neural network on all the CIFAR-10 batches of data, let's use a single batch. This should save time while you iterate on the model to get a better accuracy.  Once the final validation accuracy is 50% or greater, run the model on all the data in the next section."
   ]
  },
  {
   "cell_type": "code",
   "execution_count": 16,
   "metadata": {},
   "outputs": [
    {
     "name": "stdout",
     "output_type": "stream",
     "text": [
      "Checking the Training on a Single Batch...\n",
      "Epoch  1, CIFAR-10 Batch 1:  Loss = 2.0401480197906494  Validation Accuracy = 0.274399995803833\n",
      "Epoch  2, CIFAR-10 Batch 1:  Loss = 2.0225908756256104  Validation Accuracy = 0.27639997005462646\n",
      "Epoch  3, CIFAR-10 Batch 1:  Loss = 1.8998078107833862  Validation Accuracy = 0.335999995470047\n",
      "Epoch  4, CIFAR-10 Batch 1:  Loss = 1.8265483379364014  Validation Accuracy = 0.35659998655319214\n",
      "Epoch  5, CIFAR-10 Batch 1:  Loss = 1.7450976371765137  Validation Accuracy = 0.38519996404647827\n",
      "Epoch  6, CIFAR-10 Batch 1:  Loss = 1.6342980861663818  Validation Accuracy = 0.41659998893737793\n",
      "Epoch  7, CIFAR-10 Batch 1:  Loss = 1.5512198209762573  Validation Accuracy = 0.4341999888420105\n",
      "Epoch  8, CIFAR-10 Batch 1:  Loss = 1.5172474384307861  Validation Accuracy = 0.44759997725486755\n",
      "Epoch  9, CIFAR-10 Batch 1:  Loss = 1.4117608070373535  Validation Accuracy = 0.46719998121261597\n",
      "Epoch 10, CIFAR-10 Batch 1:  Loss = 1.3718087673187256  Validation Accuracy = 0.47200000286102295\n",
      "Epoch 11, CIFAR-10 Batch 1:  Loss = 1.3035900592803955  Validation Accuracy = 0.4875999689102173\n",
      "Epoch 12, CIFAR-10 Batch 1:  Loss = 1.2737846374511719  Validation Accuracy = 0.4909999668598175\n",
      "Epoch 13, CIFAR-10 Batch 1:  Loss = 1.2020753622055054  Validation Accuracy = 0.5121999382972717\n",
      "Epoch 14, CIFAR-10 Batch 1:  Loss = 1.163901448249817  Validation Accuracy = 0.5099999308586121\n",
      "Epoch 15, CIFAR-10 Batch 1:  Loss = 1.1375349760055542  Validation Accuracy = 0.5197999477386475\n",
      "Epoch 16, CIFAR-10 Batch 1:  Loss = 1.08927583694458  Validation Accuracy = 0.5277999639511108\n",
      "Epoch 17, CIFAR-10 Batch 1:  Loss = 1.0642560720443726  Validation Accuracy = 0.5309999585151672\n",
      "Epoch 18, CIFAR-10 Batch 1:  Loss = 1.0281928777694702  Validation Accuracy = 0.5277999639511108\n",
      "Epoch 19, CIFAR-10 Batch 1:  Loss = 1.0084607601165771  Validation Accuracy = 0.5287999510765076\n",
      "Epoch 20, CIFAR-10 Batch 1:  Loss = 0.9624171853065491  Validation Accuracy = 0.5349999070167542\n",
      "Epoch 21, CIFAR-10 Batch 1:  Loss = 0.9368269443511963  Validation Accuracy = 0.5351999402046204\n",
      "Epoch 22, CIFAR-10 Batch 1:  Loss = 0.8882561922073364  Validation Accuracy = 0.5439999103546143\n",
      "Epoch 23, CIFAR-10 Batch 1:  Loss = 0.8770446181297302  Validation Accuracy = 0.5411999225616455\n",
      "Epoch 24, CIFAR-10 Batch 1:  Loss = 0.8668399453163147  Validation Accuracy = 0.5409999489784241\n",
      "Epoch 25, CIFAR-10 Batch 1:  Loss = 0.800672709941864  Validation Accuracy = 0.5487999320030212\n",
      "Epoch 26, CIFAR-10 Batch 1:  Loss = 0.7747169137001038  Validation Accuracy = 0.5483999252319336\n",
      "Epoch 27, CIFAR-10 Batch 1:  Loss = 0.7836951017379761  Validation Accuracy = 0.5375999212265015\n",
      "Epoch 28, CIFAR-10 Batch 1:  Loss = 0.7351059317588806  Validation Accuracy = 0.5483999252319336\n",
      "Epoch 29, CIFAR-10 Batch 1:  Loss = 0.70560222864151  Validation Accuracy = 0.5481999516487122\n",
      "Epoch 30, CIFAR-10 Batch 1:  Loss = 0.6843613982200623  Validation Accuracy = 0.5413999557495117\n"
     ]
    }
   ],
   "source": [
    "\"\"\"\n",
    "DON'T MODIFY ANYTHING IN THIS CELL\n",
    "\"\"\"\n",
    "print('Checking the Training on a Single Batch...')\n",
    "with tf.Session() as sess:\n",
    "    # Initializing the variables\n",
    "    sess.run(tf.global_variables_initializer())\n",
    "    \n",
    "    # Training cycle\n",
    "    for epoch in range(epochs):\n",
    "        batch_i = 1\n",
    "        for batch_features, batch_labels in helper.load_preprocess_training_batch(batch_i, batch_size):\n",
    "            train_neural_network(sess, optimizer, keep_probability, batch_features, batch_labels)\n",
    "        print('Epoch {:>2}, CIFAR-10 Batch {}:  '.format(epoch + 1, batch_i), end='')\n",
    "        print_stats(sess, batch_features, batch_labels, cost, accuracy)"
   ]
  },
  {
   "cell_type": "markdown",
   "metadata": {},
   "source": [
    "### Fully Train the Model\n",
    "Now that you got a good accuracy with a single CIFAR-10 batch, try it with all five batches."
   ]
  },
  {
   "cell_type": "code",
   "execution_count": 17,
   "metadata": {},
   "outputs": [
    {
     "name": "stdout",
     "output_type": "stream",
     "text": [
      "Training...\n",
      "Epoch  1, CIFAR-10 Batch 1:  Loss = 2.1404330730438232  Validation Accuracy = 0.1995999962091446\n",
      "Epoch  1, CIFAR-10 Batch 2:  Loss = 1.9846336841583252  Validation Accuracy = 0.295199990272522\n",
      "Epoch  1, CIFAR-10 Batch 3:  Loss = 1.8384425640106201  Validation Accuracy = 0.32659998536109924\n",
      "Epoch  1, CIFAR-10 Batch 4:  Loss = 1.755154013633728  Validation Accuracy = 0.3725999593734741\n",
      "Epoch  1, CIFAR-10 Batch 5:  Loss = 1.710237979888916  Validation Accuracy = 0.38659998774528503\n",
      "Epoch  2, CIFAR-10 Batch 1:  Loss = 1.6533942222595215  Validation Accuracy = 0.41099995374679565\n",
      "Epoch  2, CIFAR-10 Batch 2:  Loss = 1.5750850439071655  Validation Accuracy = 0.44419997930526733\n",
      "Epoch  2, CIFAR-10 Batch 3:  Loss = 1.4822821617126465  Validation Accuracy = 0.44759997725486755\n",
      "Epoch  2, CIFAR-10 Batch 4:  Loss = 1.4704079627990723  Validation Accuracy = 0.4663999676704407\n",
      "Epoch  2, CIFAR-10 Batch 5:  Loss = 1.449590802192688  Validation Accuracy = 0.4835999608039856\n",
      "Epoch  3, CIFAR-10 Batch 1:  Loss = 1.409339189529419  Validation Accuracy = 0.48579996824264526\n",
      "Epoch  3, CIFAR-10 Batch 2:  Loss = 1.3736571073532104  Validation Accuracy = 0.5053999423980713\n",
      "Epoch  3, CIFAR-10 Batch 3:  Loss = 1.317012906074524  Validation Accuracy = 0.49859994649887085\n",
      "Epoch  3, CIFAR-10 Batch 4:  Loss = 1.3030931949615479  Validation Accuracy = 0.5207999348640442\n",
      "Epoch  3, CIFAR-10 Batch 5:  Loss = 1.2896828651428223  Validation Accuracy = 0.5267999768257141\n",
      "Epoch  4, CIFAR-10 Batch 1:  Loss = 1.2684017419815063  Validation Accuracy = 0.5323999524116516\n",
      "Epoch  4, CIFAR-10 Batch 2:  Loss = 1.296976089477539  Validation Accuracy = 0.5257999300956726\n",
      "Epoch  4, CIFAR-10 Batch 3:  Loss = 1.1848198175430298  Validation Accuracy = 0.5435999631881714\n",
      "Epoch  4, CIFAR-10 Batch 4:  Loss = 1.213587999343872  Validation Accuracy = 0.5471999645233154\n",
      "Epoch  4, CIFAR-10 Batch 5:  Loss = 1.1941736936569214  Validation Accuracy = 0.5617998838424683\n",
      "Epoch  5, CIFAR-10 Batch 1:  Loss = 1.2120511531829834  Validation Accuracy = 0.5415999889373779\n",
      "Epoch  5, CIFAR-10 Batch 2:  Loss = 1.1837009191513062  Validation Accuracy = 0.5607998967170715\n",
      "Epoch  5, CIFAR-10 Batch 3:  Loss = 1.1103441715240479  Validation Accuracy = 0.5647999048233032\n",
      "Epoch  5, CIFAR-10 Batch 4:  Loss = 1.1534879207611084  Validation Accuracy = 0.5643998980522156\n",
      "Epoch  5, CIFAR-10 Batch 5:  Loss = 1.1170265674591064  Validation Accuracy = 0.5781999230384827\n",
      "Epoch  6, CIFAR-10 Batch 1:  Loss = 1.1269288063049316  Validation Accuracy = 0.5745999217033386\n",
      "Epoch  6, CIFAR-10 Batch 2:  Loss = 1.115035891532898  Validation Accuracy = 0.5821999311447144\n",
      "Epoch  6, CIFAR-10 Batch 3:  Loss = 1.034990906715393  Validation Accuracy = 0.5813998579978943\n",
      "Epoch  6, CIFAR-10 Batch 4:  Loss = 1.0646684169769287  Validation Accuracy = 0.5889999270439148\n",
      "Epoch  6, CIFAR-10 Batch 5:  Loss = 1.044935703277588  Validation Accuracy = 0.5931999087333679\n",
      "Epoch  7, CIFAR-10 Batch 1:  Loss = 1.0593700408935547  Validation Accuracy = 0.5925999283790588\n",
      "Epoch  7, CIFAR-10 Batch 2:  Loss = 1.0671297311782837  Validation Accuracy = 0.5899999141693115\n",
      "Epoch  7, CIFAR-10 Batch 3:  Loss = 0.9824555516242981  Validation Accuracy = 0.586199939250946\n",
      "Epoch  7, CIFAR-10 Batch 4:  Loss = 0.9976751804351807  Validation Accuracy = 0.5997999310493469\n",
      "Epoch  7, CIFAR-10 Batch 5:  Loss = 0.9786654710769653  Validation Accuracy = 0.6067999005317688\n",
      "Epoch  8, CIFAR-10 Batch 1:  Loss = 1.008124828338623  Validation Accuracy = 0.608799934387207\n",
      "Epoch  8, CIFAR-10 Batch 2:  Loss = 1.014740228652954  Validation Accuracy = 0.6043999195098877\n",
      "Epoch  8, CIFAR-10 Batch 3:  Loss = 0.9325615763664246  Validation Accuracy = 0.5995998978614807\n",
      "Epoch  8, CIFAR-10 Batch 4:  Loss = 0.9462065100669861  Validation Accuracy = 0.6079999208450317\n",
      "Epoch  8, CIFAR-10 Batch 5:  Loss = 0.9143503904342651  Validation Accuracy = 0.6239998936653137\n",
      "Epoch  9, CIFAR-10 Batch 1:  Loss = 0.948195219039917  Validation Accuracy = 0.6207998991012573\n",
      "Epoch  9, CIFAR-10 Batch 2:  Loss = 0.9430777430534363  Validation Accuracy = 0.6199999451637268\n",
      "Epoch  9, CIFAR-10 Batch 3:  Loss = 0.8947778940200806  Validation Accuracy = 0.6073998808860779\n",
      "Epoch  9, CIFAR-10 Batch 4:  Loss = 0.882987380027771  Validation Accuracy = 0.6227999329566956\n",
      "Epoch  9, CIFAR-10 Batch 5:  Loss = 0.8640434145927429  Validation Accuracy = 0.6303998827934265\n",
      "Epoch 10, CIFAR-10 Batch 1:  Loss = 0.8870395421981812  Validation Accuracy = 0.6357998847961426\n",
      "Epoch 10, CIFAR-10 Batch 2:  Loss = 0.8828809261322021  Validation Accuracy = 0.6307998895645142\n",
      "Epoch 10, CIFAR-10 Batch 3:  Loss = 0.8216386437416077  Validation Accuracy = 0.6177998781204224\n",
      "Epoch 10, CIFAR-10 Batch 4:  Loss = 0.824883222579956  Validation Accuracy = 0.6333999037742615\n",
      "Epoch 10, CIFAR-10 Batch 5:  Loss = 0.804812490940094  Validation Accuracy = 0.6395998597145081\n",
      "Epoch 11, CIFAR-10 Batch 1:  Loss = 0.8523467779159546  Validation Accuracy = 0.6397998929023743\n",
      "Epoch 11, CIFAR-10 Batch 2:  Loss = 0.8474659323692322  Validation Accuracy = 0.6391999125480652\n",
      "Epoch 11, CIFAR-10 Batch 3:  Loss = 0.7428420186042786  Validation Accuracy = 0.640799880027771\n",
      "Epoch 11, CIFAR-10 Batch 4:  Loss = 0.7675979137420654  Validation Accuracy = 0.6409999132156372\n",
      "Epoch 11, CIFAR-10 Batch 5:  Loss = 0.7484946846961975  Validation Accuracy = 0.6485998630523682\n",
      "Epoch 12, CIFAR-10 Batch 1:  Loss = 0.8090063333511353  Validation Accuracy = 0.6419999003410339\n",
      "Epoch 12, CIFAR-10 Batch 2:  Loss = 0.7981424331665039  Validation Accuracy = 0.6423999667167664\n",
      "Epoch 12, CIFAR-10 Batch 3:  Loss = 0.6868572235107422  Validation Accuracy = 0.6537998914718628\n",
      "Epoch 12, CIFAR-10 Batch 4:  Loss = 0.7106626033782959  Validation Accuracy = 0.650999903678894\n",
      "Epoch 12, CIFAR-10 Batch 5:  Loss = 0.702391505241394  Validation Accuracy = 0.6553999185562134\n",
      "Epoch 13, CIFAR-10 Batch 1:  Loss = 0.7500858306884766  Validation Accuracy = 0.65559983253479\n",
      "Epoch 13, CIFAR-10 Batch 2:  Loss = 0.7424368262290955  Validation Accuracy = 0.6513999700546265\n",
      "Epoch 13, CIFAR-10 Batch 3:  Loss = 0.6463767290115356  Validation Accuracy = 0.6541998982429504\n",
      "Epoch 13, CIFAR-10 Batch 4:  Loss = 0.6591106057167053  Validation Accuracy = 0.6525998115539551\n",
      "Epoch 13, CIFAR-10 Batch 5:  Loss = 0.6556256413459778  Validation Accuracy = 0.6583998799324036\n",
      "Epoch 14, CIFAR-10 Batch 1:  Loss = 0.706878662109375  Validation Accuracy = 0.6619998812675476\n",
      "Epoch 14, CIFAR-10 Batch 2:  Loss = 0.6919426918029785  Validation Accuracy = 0.6613999009132385\n",
      "Epoch 14, CIFAR-10 Batch 3:  Loss = 0.5906926393508911  Validation Accuracy = 0.6593999266624451\n",
      "Epoch 14, CIFAR-10 Batch 4:  Loss = 0.6124700903892517  Validation Accuracy = 0.6613998413085938\n",
      "Epoch 14, CIFAR-10 Batch 5:  Loss = 0.611351490020752  Validation Accuracy = 0.6613999009132385\n",
      "Epoch 15, CIFAR-10 Batch 1:  Loss = 0.6500133872032166  Validation Accuracy = 0.6699998378753662\n",
      "Epoch 15, CIFAR-10 Batch 2:  Loss = 0.644560694694519  Validation Accuracy = 0.6655999422073364\n",
      "Epoch 15, CIFAR-10 Batch 3:  Loss = 0.571681022644043  Validation Accuracy = 0.665199875831604\n",
      "Epoch 15, CIFAR-10 Batch 4:  Loss = 0.5695960521697998  Validation Accuracy = 0.6657998561859131\n",
      "Epoch 15, CIFAR-10 Batch 5:  Loss = 0.5817341208457947  Validation Accuracy = 0.6575998663902283\n",
      "Epoch 16, CIFAR-10 Batch 1:  Loss = 0.6197373867034912  Validation Accuracy = 0.671599805355072\n",
      "Epoch 16, CIFAR-10 Batch 2:  Loss = 0.6067970395088196  Validation Accuracy = 0.6709998846054077\n",
      "Epoch 16, CIFAR-10 Batch 3:  Loss = 0.5317807197570801  Validation Accuracy = 0.6693999171257019\n",
      "Epoch 16, CIFAR-10 Batch 4:  Loss = 0.5572627186775208  Validation Accuracy = 0.6495998501777649\n",
      "Epoch 16, CIFAR-10 Batch 5:  Loss = 0.5121279358863831  Validation Accuracy = 0.6713998913764954\n",
      "Epoch 17, CIFAR-10 Batch 1:  Loss = 0.5823327898979187  Validation Accuracy = 0.6741998791694641\n",
      "Epoch 17, CIFAR-10 Batch 2:  Loss = 0.5681005716323853  Validation Accuracy = 0.6699998378753662\n",
      "Epoch 17, CIFAR-10 Batch 3:  Loss = 0.48966702818870544  Validation Accuracy = 0.6663998365402222\n",
      "Epoch 17, CIFAR-10 Batch 4:  Loss = 0.5048231482505798  Validation Accuracy = 0.6613999009132385\n",
      "Epoch 17, CIFAR-10 Batch 5:  Loss = 0.5000714063644409  Validation Accuracy = 0.6583998203277588\n"
     ]
    },
    {
     "name": "stdout",
     "output_type": "stream",
     "text": [
      "Epoch 18, CIFAR-10 Batch 1:  Loss = 0.5422207713127136  Validation Accuracy = 0.6685999035835266\n",
      "Epoch 18, CIFAR-10 Batch 2:  Loss = 0.5728883147239685  Validation Accuracy = 0.6543998718261719\n",
      "Epoch 18, CIFAR-10 Batch 3:  Loss = 0.4831361472606659  Validation Accuracy = 0.6671998500823975\n",
      "Epoch 18, CIFAR-10 Batch 4:  Loss = 0.4567883312702179  Validation Accuracy = 0.6723998785018921\n",
      "Epoch 18, CIFAR-10 Batch 5:  Loss = 0.45793235301971436  Validation Accuracy = 0.6641998887062073\n",
      "Epoch 19, CIFAR-10 Batch 1:  Loss = 0.5017572641372681  Validation Accuracy = 0.6685998439788818\n",
      "Epoch 19, CIFAR-10 Batch 2:  Loss = 0.49104800820350647  Validation Accuracy = 0.672799825668335\n",
      "Epoch 19, CIFAR-10 Batch 3:  Loss = 0.4922354817390442  Validation Accuracy = 0.6575998663902283\n",
      "Epoch 19, CIFAR-10 Batch 4:  Loss = 0.43950968980789185  Validation Accuracy = 0.6627998948097229\n",
      "Epoch 19, CIFAR-10 Batch 5:  Loss = 0.42520225048065186  Validation Accuracy = 0.6657998561859131\n",
      "Epoch 20, CIFAR-10 Batch 1:  Loss = 0.4749017059803009  Validation Accuracy = 0.6713998913764954\n",
      "Epoch 20, CIFAR-10 Batch 2:  Loss = 0.45132866501808167  Validation Accuracy = 0.6749998927116394\n",
      "Epoch 20, CIFAR-10 Batch 3:  Loss = 0.40833842754364014  Validation Accuracy = 0.67659991979599\n",
      "Epoch 20, CIFAR-10 Batch 4:  Loss = 0.3790813088417053  Validation Accuracy = 0.6763998866081238\n",
      "Epoch 20, CIFAR-10 Batch 5:  Loss = 0.37835589051246643  Validation Accuracy = 0.6715998649597168\n",
      "Epoch 21, CIFAR-10 Batch 1:  Loss = 0.4133918285369873  Validation Accuracy = 0.6813998818397522\n",
      "Epoch 21, CIFAR-10 Batch 2:  Loss = 0.4193049669265747  Validation Accuracy = 0.6737998723983765\n",
      "Epoch 21, CIFAR-10 Batch 3:  Loss = 0.38350850343704224  Validation Accuracy = 0.6801998615264893\n",
      "Epoch 21, CIFAR-10 Batch 4:  Loss = 0.35104110836982727  Validation Accuracy = 0.6787999272346497\n",
      "Epoch 21, CIFAR-10 Batch 5:  Loss = 0.3691372275352478  Validation Accuracy = 0.6665998697280884\n",
      "Epoch 22, CIFAR-10 Batch 1:  Loss = 0.40575680136680603  Validation Accuracy = 0.6755998730659485\n",
      "Epoch 22, CIFAR-10 Batch 2:  Loss = 0.3841846287250519  Validation Accuracy = 0.6821998357772827\n",
      "Epoch 22, CIFAR-10 Batch 3:  Loss = 0.34693145751953125  Validation Accuracy = 0.6847999095916748\n",
      "Epoch 22, CIFAR-10 Batch 4:  Loss = 0.3309983015060425  Validation Accuracy = 0.6635998487472534\n",
      "Epoch 22, CIFAR-10 Batch 5:  Loss = 0.3010295033454895  Validation Accuracy = 0.6915998458862305\n",
      "Epoch 23, CIFAR-10 Batch 1:  Loss = 0.37740761041641235  Validation Accuracy = 0.6791999340057373\n",
      "Epoch 23, CIFAR-10 Batch 2:  Loss = 0.3826104402542114  Validation Accuracy = 0.6697998642921448\n",
      "Epoch 23, CIFAR-10 Batch 3:  Loss = 0.34821033477783203  Validation Accuracy = 0.669999897480011\n",
      "Epoch 23, CIFAR-10 Batch 4:  Loss = 0.28693845868110657  Validation Accuracy = 0.6751998662948608\n",
      "Epoch 23, CIFAR-10 Batch 5:  Loss = 0.30012330412864685  Validation Accuracy = 0.6801998615264893\n",
      "Epoch 24, CIFAR-10 Batch 1:  Loss = 0.36979997158050537  Validation Accuracy = 0.6801998615264893\n",
      "Epoch 24, CIFAR-10 Batch 2:  Loss = 0.33508339524269104  Validation Accuracy = 0.679999828338623\n",
      "Epoch 24, CIFAR-10 Batch 3:  Loss = 0.3001815378665924  Validation Accuracy = 0.6789998412132263\n",
      "Epoch 24, CIFAR-10 Batch 4:  Loss = 0.2546723484992981  Validation Accuracy = 0.6817998886108398\n",
      "Epoch 24, CIFAR-10 Batch 5:  Loss = 0.24672827124595642  Validation Accuracy = 0.6889998912811279\n",
      "Epoch 25, CIFAR-10 Batch 1:  Loss = 0.3123588263988495  Validation Accuracy = 0.682999849319458\n",
      "Epoch 25, CIFAR-10 Batch 2:  Loss = 0.2843080759048462  Validation Accuracy = 0.6873999238014221\n",
      "Epoch 25, CIFAR-10 Batch 3:  Loss = 0.250369131565094  Validation Accuracy = 0.6861998438835144\n",
      "Epoch 25, CIFAR-10 Batch 4:  Loss = 0.23994499444961548  Validation Accuracy = 0.6699998378753662\n",
      "Epoch 25, CIFAR-10 Batch 5:  Loss = 0.24307695031166077  Validation Accuracy = 0.6769998669624329\n",
      "Epoch 26, CIFAR-10 Batch 1:  Loss = 0.2851950526237488  Validation Accuracy = 0.6841999292373657\n",
      "Epoch 26, CIFAR-10 Batch 2:  Loss = 0.2776258885860443  Validation Accuracy = 0.6795998811721802\n",
      "Epoch 26, CIFAR-10 Batch 3:  Loss = 0.2584923207759857  Validation Accuracy = 0.6787998676300049\n",
      "Epoch 26, CIFAR-10 Batch 4:  Loss = 0.2193020135164261  Validation Accuracy = 0.6653999090194702\n",
      "Epoch 26, CIFAR-10 Batch 5:  Loss = 0.22214990854263306  Validation Accuracy = 0.6719999313354492\n",
      "Epoch 27, CIFAR-10 Batch 1:  Loss = 0.2583637535572052  Validation Accuracy = 0.6849998831748962\n",
      "Epoch 27, CIFAR-10 Batch 2:  Loss = 0.2513517737388611  Validation Accuracy = 0.6761998534202576\n",
      "Epoch 27, CIFAR-10 Batch 3:  Loss = 0.26001137495040894  Validation Accuracy = 0.6715998649597168\n",
      "Epoch 27, CIFAR-10 Batch 4:  Loss = 0.1975453495979309  Validation Accuracy = 0.6767998337745667\n",
      "Epoch 27, CIFAR-10 Batch 5:  Loss = 0.22405295073986053  Validation Accuracy = 0.6669998168945312\n",
      "Epoch 28, CIFAR-10 Batch 1:  Loss = 0.2441863864660263  Validation Accuracy = 0.6819998025894165\n",
      "Epoch 28, CIFAR-10 Batch 2:  Loss = 0.2080339640378952  Validation Accuracy = 0.6817998886108398\n",
      "Epoch 28, CIFAR-10 Batch 3:  Loss = 0.2287781834602356  Validation Accuracy = 0.673599898815155\n",
      "Epoch 28, CIFAR-10 Batch 4:  Loss = 0.2248849868774414  Validation Accuracy = 0.6599999070167542\n",
      "Epoch 28, CIFAR-10 Batch 5:  Loss = 0.2014782726764679  Validation Accuracy = 0.6731998920440674\n",
      "Epoch 29, CIFAR-10 Batch 1:  Loss = 0.21093860268592834  Validation Accuracy = 0.6959998607635498\n",
      "Epoch 29, CIFAR-10 Batch 2:  Loss = 0.17752067744731903  Validation Accuracy = 0.6951998472213745\n",
      "Epoch 29, CIFAR-10 Batch 3:  Loss = 0.20509740710258484  Validation Accuracy = 0.6739999055862427\n",
      "Epoch 29, CIFAR-10 Batch 4:  Loss = 0.20121240615844727  Validation Accuracy = 0.6655998826026917\n",
      "Epoch 29, CIFAR-10 Batch 5:  Loss = 0.18136022984981537  Validation Accuracy = 0.6791998744010925\n",
      "Epoch 30, CIFAR-10 Batch 1:  Loss = 0.18708819150924683  Validation Accuracy = 0.6921998858451843\n",
      "Epoch 30, CIFAR-10 Batch 2:  Loss = 0.16128084063529968  Validation Accuracy = 0.6973998546600342\n",
      "Epoch 30, CIFAR-10 Batch 3:  Loss = 0.16924777626991272  Validation Accuracy = 0.6759998798370361\n",
      "Epoch 30, CIFAR-10 Batch 4:  Loss = 0.1795773208141327  Validation Accuracy = 0.6623998880386353\n",
      "Epoch 30, CIFAR-10 Batch 5:  Loss = 0.18049943447113037  Validation Accuracy = 0.6711999177932739\n"
     ]
    }
   ],
   "source": [
    "\"\"\"\n",
    "DON'T MODIFY ANYTHING IN THIS CELL\n",
    "\"\"\"\n",
    "save_model_path = './image_classification'\n",
    "\n",
    "print('Training...')\n",
    "with tf.Session() as sess:\n",
    "    # Initializing the variables\n",
    "    sess.run(tf.global_variables_initializer())\n",
    "    \n",
    "    # Training cycle\n",
    "    for epoch in range(epochs):\n",
    "        # Loop over all batches\n",
    "        n_batches = 5\n",
    "        for batch_i in range(1, n_batches + 1):\n",
    "            for batch_features, batch_labels in helper.load_preprocess_training_batch(batch_i, batch_size):\n",
    "                train_neural_network(sess, optimizer, keep_probability, batch_features, batch_labels)\n",
    "            print('Epoch {:>2}, CIFAR-10 Batch {}:  '.format(epoch + 1, batch_i), end='')\n",
    "            print_stats(sess, batch_features, batch_labels, cost, accuracy)\n",
    "            \n",
    "    # Save Model\n",
    "    saver = tf.train.Saver()\n",
    "    save_path = saver.save(sess, save_model_path)"
   ]
  },
  {
   "cell_type": "markdown",
   "metadata": {},
   "source": [
    "# Checkpoint\n",
    "The model has been saved to disk.\n",
    "## Test Model\n",
    "Test your model against the test dataset.  This will be your final accuracy. You should have an accuracy greater than 50%. If you don't, keep tweaking the model architecture and parameters."
   ]
  },
  {
   "cell_type": "code",
   "execution_count": 18,
   "metadata": {},
   "outputs": [
    {
     "name": "stdout",
     "output_type": "stream",
     "text": [
      "INFO:tensorflow:Restoring parameters from ./image_classification\n",
      "Testing Accuracy: 0.669714605808258\n",
      "\n"
     ]
    },
    {
     "data": {
      "image/png": "[encoded data removed]",
      "text/plain": [
       "<matplotlib.figure.Figure at 0x7f60d3d4f358>"
      ]
     },
     "metadata": {
      "image/png": {
       "height": 319,
       "width": 355
      }
     },
     "output_type": "display_data"
    }
   ],
   "source": [
    "\"\"\"\n",
    "DON'T MODIFY ANYTHING IN THIS CELL\n",
    "\"\"\"\n",
    "%matplotlib inline\n",
    "%config InlineBackend.figure_format = 'retina'\n",
    "\n",
    "import tensorflow as tf\n",
    "import pickle\n",
    "import helper\n",
    "import random\n",
    "\n",
    "# Set batch size if not already set\n",
    "try:\n",
    "    if batch_size:\n",
    "        pass\n",
    "except NameError:\n",
    "    batch_size = 64\n",
    "\n",
    "save_model_path = './image_classification'\n",
    "n_samples = 4\n",
    "top_n_predictions = 3\n",
    "\n",
    "def test_model():\n",
    "    \"\"\"\n",
    "    Test the saved model against the test dataset\n",
    "    \"\"\"\n",
    "\n",
    "    test_features, test_labels = pickle.load(open('preprocess_test.p', mode='rb'))\n",
    "    loaded_graph = tf.Graph()\n",
    "\n",
    "    with tf.Session(graph=loaded_graph) as sess:\n",
    "        # Load model\n",
    "        loader = tf.train.import_meta_graph(save_model_path + '.meta')\n",
    "        loader.restore(sess, save_model_path)\n",
    "\n",
    "        # Get Tensors from loaded model\n",
    "        loaded_x = loaded_graph.get_tensor_by_name('x:0')\n",
    "        loaded_y = loaded_graph.get_tensor_by_name('y:0')\n",
    "        loaded_keep_prob = loaded_graph.get_tensor_by_name('keep_prob:0')\n",
    "        loaded_logits = loaded_graph.get_tensor_by_name('logits:0')\n",
    "        loaded_acc = loaded_graph.get_tensor_by_name('accuracy:0')\n",
    "        \n",
    "        # Get accuracy in batches for memory limitations\n",
    "        test_batch_acc_total = 0\n",
    "        test_batch_count = 0\n",
    "        \n",
    "        for test_feature_batch, test_label_batch in helper.batch_features_labels(test_features, test_labels, batch_size):\n",
    "            test_batch_acc_total += sess.run(\n",
    "                loaded_acc,\n",
    "                feed_dict={loaded_x: test_feature_batch, loaded_y: test_label_batch, loaded_keep_prob: 1.0})\n",
    "            test_batch_count += 1\n",
    "\n",
    "        print('Testing Accuracy: {}\\n'.format(test_batch_acc_total/test_batch_count))\n",
    "\n",
    "        # Print Random Samples\n",
    "        random_test_features, random_test_labels = tuple(zip(*random.sample(list(zip(test_features, test_labels)), n_samples)))\n",
    "        random_test_predictions = sess.run(\n",
    "            tf.nn.top_k(tf.nn.softmax(loaded_logits), top_n_predictions),\n",
    "            feed_dict={loaded_x: random_test_features, loaded_y: random_test_labels, loaded_keep_prob: 1.0})\n",
    "        helper.display_image_predictions(random_test_features, random_test_labels, random_test_predictions)\n",
    "\n",
    "\n",
    "test_model()"
   ]
  },
  {
   "cell_type": "markdown",
   "metadata": {},
   "source": [
    "## Why 50-80% Accuracy?\n",
    "You might be wondering why you can't get an accuracy any higher. First things first, 50% isn't bad for a simple CNN.  Pure guessing would get you 10% accuracy. However, you might notice people are getting scores [well above 80%](http://rodrigob.github.io/are_we_there_yet/build/classification_datasets_results.html#43494641522d3130).  That's because we haven't taught you all there is to know about neural networks. We still need to cover a few more techniques.\n",
    "## Submitting This Project\n",
    "When submitting this project, make sure to run all the cells before saving the notebook.  Save the notebook file as \"dlnd_image_classification.ipynb\" and save it as a HTML file under \"File\" -> \"Download as\".  Include the \"helper.py\" and \"problem_unittests.py\" files in your submission."
   ]
  }
 ],
 "metadata": {
  "kernelspec": {
   "display_name": "Python 3",
   "language": "python",
   "name": "python3"
  },
  "language_info": {
   "codemirror_mode": {
    "name": "ipython",
    "version": 3
   },
   "file_extension": ".py",
   "mimetype": "text/x-python",
   "name": "python",
   "nbconvert_exporter": "python",
   "pygments_lexer": "ipython3",
   "version": "3.5.3"
  }
 },
 "nbformat": 4,
 "nbformat_minor": 1
}
